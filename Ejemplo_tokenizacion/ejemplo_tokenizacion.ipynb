{
 "cells": [
  {
   "cell_type": "markdown",
   "id": "72e912ae-d378-4b25-be0c-8c5fa2ebc2aa",
   "metadata": {},
   "source": [
    "# Tokenización"
   ]
  },
  {
   "cell_type": "code",
   "execution_count": 2,
   "id": "1a4e3599-9e44-4a46-9371-a68f6ce53c48",
   "metadata": {},
   "outputs": [
    {
     "name": "stdout",
     "output_type": "stream",
     "text": [
      "Requirement already satisfied: scikit-learn in c:\\users\\oscar\\anaconda3\\lib\\site-packages (1.5.2)\n",
      "Requirement already satisfied: numpy>=1.19.5 in c:\\users\\oscar\\anaconda3\\lib\\site-packages (from scikit-learn) (1.26.4)\n",
      "Requirement already satisfied: scipy>=1.6.0 in c:\\users\\oscar\\anaconda3\\lib\\site-packages (from scikit-learn) (1.13.1)\n",
      "Requirement already satisfied: joblib>=1.2.0 in c:\\users\\oscar\\anaconda3\\lib\\site-packages (from scikit-learn) (1.4.2)\n",
      "Requirement already satisfied: threadpoolctl>=3.1.0 in c:\\users\\oscar\\anaconda3\\lib\\site-packages (from scikit-learn) (3.5.0)\n"
     ]
    }
   ],
   "source": [
    "!pip install -U scikit-learn"
   ]
  },
  {
   "cell_type": "code",
   "execution_count": 3,
   "id": "19208f01-ed66-4a00-8d03-e74d7418302b",
   "metadata": {},
   "outputs": [],
   "source": [
    "import pandas as pd"
   ]
  },
  {
   "cell_type": "code",
   "execution_count": 4,
   "id": "cffaa263-35b8-4a98-9416-924044dff9d1",
   "metadata": {},
   "outputs": [
    {
     "data": {
      "text/html": [
       "<div>\n",
       "<style scoped>\n",
       "    .dataframe tbody tr th:only-of-type {\n",
       "        vertical-align: middle;\n",
       "    }\n",
       "\n",
       "    .dataframe tbody tr th {\n",
       "        vertical-align: top;\n",
       "    }\n",
       "\n",
       "    .dataframe thead th {\n",
       "        text-align: right;\n",
       "    }\n",
       "</style>\n",
       "<table border=\"1\" class=\"dataframe\">\n",
       "  <thead>\n",
       "    <tr style=\"text-align: right;\">\n",
       "      <th></th>\n",
       "      <th>url</th>\n",
       "      <th>news</th>\n",
       "      <th>Type</th>\n",
       "    </tr>\n",
       "  </thead>\n",
       "  <tbody>\n",
       "    <tr>\n",
       "      <th>0</th>\n",
       "      <td>https://www.larepublica.co/redirect/post/3201905</td>\n",
       "      <td>Durante el foro La banca articulador empresari...</td>\n",
       "      <td>Otra</td>\n",
       "    </tr>\n",
       "    <tr>\n",
       "      <th>1</th>\n",
       "      <td>https://www.larepublica.co/redirect/post/3210288</td>\n",
       "      <td>El regulador de valores de China dijo el domin...</td>\n",
       "      <td>Regulaciones</td>\n",
       "    </tr>\n",
       "    <tr>\n",
       "      <th>2</th>\n",
       "      <td>https://www.larepublica.co/redirect/post/3240676</td>\n",
       "      <td>En una industria históricamente masculina como...</td>\n",
       "      <td>Alianzas</td>\n",
       "    </tr>\n",
       "    <tr>\n",
       "      <th>3</th>\n",
       "      <td>https://www.larepublica.co/redirect/post/3342889</td>\n",
       "      <td>Con el dato de marzo el IPC interanual encaden...</td>\n",
       "      <td>Macroeconomia</td>\n",
       "    </tr>\n",
       "    <tr>\n",
       "      <th>4</th>\n",
       "      <td>https://www.larepublica.co/redirect/post/3427208</td>\n",
       "      <td>Ayer en Cartagena se dio inicio a la versión n...</td>\n",
       "      <td>Otra</td>\n",
       "    </tr>\n",
       "    <tr>\n",
       "      <th>...</th>\n",
       "      <td>...</td>\n",
       "      <td>...</td>\n",
       "      <td>...</td>\n",
       "    </tr>\n",
       "    <tr>\n",
       "      <th>1212</th>\n",
       "      <td>https://www.bbva.com/es/como-lograr-que-los-in...</td>\n",
       "      <td>En la vida de toda empresa emergente llega un ...</td>\n",
       "      <td>Innovacion</td>\n",
       "    </tr>\n",
       "    <tr>\n",
       "      <th>1213</th>\n",
       "      <td>https://www.bbva.com/es/podcast-como-nos-afect...</td>\n",
       "      <td>La espiral alcista de los precios continúa y g...</td>\n",
       "      <td>Macroeconomia</td>\n",
       "    </tr>\n",
       "    <tr>\n",
       "      <th>1214</th>\n",
       "      <td>https://www.larepublica.co/redirect/post/3253735</td>\n",
       "      <td>Las grandes derrotas nacionales son experienci...</td>\n",
       "      <td>Alianzas</td>\n",
       "    </tr>\n",
       "    <tr>\n",
       "      <th>1215</th>\n",
       "      <td>https://www.bbva.com/es/bbva-y-barcelona-healt...</td>\n",
       "      <td>BBVA ha alcanzado un acuerdo de colaboración c...</td>\n",
       "      <td>Innovacion</td>\n",
       "    </tr>\n",
       "    <tr>\n",
       "      <th>1216</th>\n",
       "      <td>https://www.larepublica.co/redirect/post/3263980</td>\n",
       "      <td>Casi entrando a la parte final de noviembre la...</td>\n",
       "      <td>Alianzas</td>\n",
       "    </tr>\n",
       "  </tbody>\n",
       "</table>\n",
       "<p>1217 rows × 3 columns</p>\n",
       "</div>"
      ],
      "text/plain": [
       "                                                    url  \\\n",
       "0      https://www.larepublica.co/redirect/post/3201905   \n",
       "1      https://www.larepublica.co/redirect/post/3210288   \n",
       "2      https://www.larepublica.co/redirect/post/3240676   \n",
       "3      https://www.larepublica.co/redirect/post/3342889   \n",
       "4      https://www.larepublica.co/redirect/post/3427208   \n",
       "...                                                 ...   \n",
       "1212  https://www.bbva.com/es/como-lograr-que-los-in...   \n",
       "1213  https://www.bbva.com/es/podcast-como-nos-afect...   \n",
       "1214   https://www.larepublica.co/redirect/post/3253735   \n",
       "1215  https://www.bbva.com/es/bbva-y-barcelona-healt...   \n",
       "1216   https://www.larepublica.co/redirect/post/3263980   \n",
       "\n",
       "                                                   news           Type  \n",
       "0     Durante el foro La banca articulador empresari...           Otra  \n",
       "1     El regulador de valores de China dijo el domin...   Regulaciones  \n",
       "2     En una industria históricamente masculina como...       Alianzas  \n",
       "3     Con el dato de marzo el IPC interanual encaden...  Macroeconomia  \n",
       "4     Ayer en Cartagena se dio inicio a la versión n...           Otra  \n",
       "...                                                 ...            ...  \n",
       "1212  En la vida de toda empresa emergente llega un ...     Innovacion  \n",
       "1213  La espiral alcista de los precios continúa y g...  Macroeconomia  \n",
       "1214  Las grandes derrotas nacionales son experienci...       Alianzas  \n",
       "1215  BBVA ha alcanzado un acuerdo de colaboración c...     Innovacion  \n",
       "1216  Casi entrando a la parte final de noviembre la...       Alianzas  \n",
       "\n",
       "[1217 rows x 3 columns]"
      ]
     },
     "execution_count": 4,
     "metadata": {},
     "output_type": "execute_result"
    }
   ],
   "source": [
    "df= pd.read_csv('df_total.csv', encoding='UTF-8')\n",
    "df"
   ]
  },
  {
   "cell_type": "code",
   "execution_count": 5,
   "id": "f927892e-51dd-4e67-8311-96f7ddb36c6d",
   "metadata": {},
   "outputs": [
    {
     "data": {
      "text/plain": [
       "'Con el dato de marzo el IPC interanual encadena su decimoquinta tasa positiva consecutiva. La inflación publicada por el INE se ha mantenido igual respecto al avance del 30 de marzo y se sitúa 22 puntos por encima del dato de febrero que ascendió al 76.De esos 22 puntos de diferencia la mayor parte la colocó el grupo de la vivienda 09 puntos por la subida de la electricidad y el del transporte 07 puntos por el alza de los carburantes. También impulsaron el IPC de marzo el aumento de los precios de la restauración y los servicios de alojamiento y al encarecimiento generalizado de los alimentos especialmente del pescado y el marisco de la carne de las legumbres y hortalizas y de la leche el queso y los huevos.Sin tener en cuenta la rebaja del impuesto especial sobre la electricidad y las variaciones sobre otros impuestos el IPC interanual alcanzó en marzo 107 nueve décimas más que la tasa general del 98. Así lo refleja el IPC a impuestos constantes que el INE también publica en el marco de esta estadística.La inflación subyacente sin alimentos no elaborados ni productos energéticos aumentó en marzo cuatro décimas hasta 34 su valor más alto desde septiembre de 2008. De este modo la subyacente se sitúa más de seis puntos por debajo de la tasa del IPC general.En el último año la calefacción el alumbrado y la distribución de agua se han encarecido 683 los aceites y grasas han elevado sus precios un 321 y el transporte personal es un 193 más caro por el mayor coste de los carburantes. También registran alzas de dos dígitos los huevos y la leche un 11 más caros que hace un año y la carne de ovino y el pescado fresco y congelado con repuntes del 101 en ambos casos.Cómo están los precios por comunidadesCastillaLa Mancha se situó a la cabeza con una tasa de inflación del 117 seguida de Castilla y León 11 Aragón 107 La Rioja 106 Galicia 105 Extremadura 103 Cantabria 102 y Comunidad Valenciana 102.En el otro las comunidades donde se registraron las menores subidas fueron Canarias 84 Madrid 9 Baleares 94 Asturias 95 País Vasco 95 y Cataluña 95.El IPC dispara su tasa mensual al 3En tasa mensual el IPC registró en marzo un incremento del 3 respecto a febrero su mayor alza mensual en cualquier mes desde 2002 cuando se cambió la metodología de esta estadística para recoger mejor la evolución del mercado. Echando la vista más atrás tomando series anteriores el repunte mensual de marzo es el más elevado desde agosto de 1977.En el tercer mes de 2022 el Índice de Precios de Consumo Armonizado IPCA situó su tasa interanual en 98 más de dos puntos por encima de la de febrero. Por su parte el indicador adelantado del IPCA avanzó un 39 en tasa mensual.'"
      ]
     },
     "execution_count": 5,
     "metadata": {},
     "output_type": "execute_result"
    }
   ],
   "source": [
    "df['news'][3]"
   ]
  },
  {
   "cell_type": "code",
   "execution_count": 6,
   "id": "6818b6ea-a115-45a9-9730-82098b5e9066",
   "metadata": {},
   "outputs": [],
   "source": [
    "# Vamos a separara los datos en variables de entrada y etiquetas\n",
    "X= df['news']\n",
    "y= df['Type']\n"
   ]
  },
  {
   "cell_type": "code",
   "execution_count": 7,
   "id": "47113514-c721-4856-b18e-613f1fbae535",
   "metadata": {},
   "outputs": [
    {
     "name": "stdout",
     "output_type": "stream",
     "text": [
      "Type\n",
      "Macroeconomia     340\n",
      "Alianzas          247\n",
      "Innovacion        195\n",
      "Regulaciones      142\n",
      "Sostenibilidad    137\n",
      "Otra              130\n",
      "Reputacion         26\n",
      "Name: count, dtype: int64\n"
     ]
    }
   ],
   "source": [
    "# Vamos a mostrar que en la variable y estamos guardando los valores de las etiquetas y cuantos hay de cada uno \n",
    "print(df['Type'].value_counts())"
   ]
  },
  {
   "cell_type": "code",
   "execution_count": 8,
   "id": "064b0dd8-2879-4b8b-a3a1-301bdb91dee7",
   "metadata": {},
   "outputs": [],
   "source": [
    "# Vamos a importar la libreria que nos va a permitir dividir el conjunto en entrenamiento y test del modelo\n",
    "from sklearn.model_selection import train_test_split\n"
   ]
  },
  {
   "cell_type": "code",
   "execution_count": 9,
   "id": "c7b5c1c1-db5a-4f8a-aca9-bf4665fa0334",
   "metadata": {},
   "outputs": [],
   "source": [
    "# Ponemos para que nos arroje los valores en x(entrenamiento) x(prueba) y lo mismo para las \"y\"\n",
    "# le podemos especificar el tamaño del conjunto de test y se elige entre 0.2 a 0.35 es cuestion del usuario\n",
    "X_train, X_test, y_train, y_test = train_test_split(X,y,test_size=0.25)\n"
   ]
  },
  {
   "cell_type": "code",
   "execution_count": 10,
   "id": "3e3bf591-3c2f-42bc-bb57-5ff9d7a1b49f",
   "metadata": {},
   "outputs": [
    {
     "data": {
      "text/plain": [
       "365     He sido muy crítico de la política exterior no...\n",
       "864     Netflix Inc. puede descubrir pronto cuántos de...\n",
       "512     Según un estudio desarrollado por The Martec G...\n",
       "462     Todos los esfuerzos de América Latina para red...\n",
       "143     Las acciones subieron y los rendimientos de lo...\n",
       "                              ...                        \n",
       "991     Las finanzas descentralizadas, o DeFi, pueden ...\n",
       "783     Carlos Serrano Herrera economista jefe de BBVA...\n",
       "1086    Con miras a enfrentar el efecto del cambio cli...\n",
       "1082    La inflación del Reino Unido se aceleró más de...\n",
       "645     En el marco de Andicom Microsoft desarrolla un...\n",
       "Name: news, Length: 912, dtype: object"
      ]
     },
     "execution_count": 10,
     "metadata": {},
     "output_type": "execute_result"
    }
   ],
   "source": [
    "X_train"
   ]
  },
  {
   "cell_type": "code",
   "execution_count": 11,
   "id": "8c37f592-0779-48b6-8bb9-adb079281de1",
   "metadata": {},
   "outputs": [
    {
     "data": {
      "text/plain": [
       "646     La industria publicitaria es un nicho que nunc...\n",
       "681     Airbnb Inc dijo el jueves que extenderá una pr...\n",
       "285     BBVA Open Innovation busca apoyar la transform...\n",
       "1092    Los precios al por mayor de Japón aumentaron 9...\n",
       "1197    BBVA continúa ampliando los servicios, herrami...\n",
       "                              ...                        \n",
       "1121    La empresa de alimentos Alpina y la de café Ju...\n",
       "481     BBVA ha obtenido la nota más alta entre los ba...\n",
       "300     BBVA participó de Forbes Revolución Fintech Su...\n",
       "1058    Banco de Bogotá y Habi se unieron para iniciar...\n",
       "118     Ayer la Alianza del Pacífico conformada por Co...\n",
       "Name: news, Length: 305, dtype: object"
      ]
     },
     "execution_count": 11,
     "metadata": {},
     "output_type": "execute_result"
    }
   ],
   "source": [
    "X_test"
   ]
  },
  {
   "cell_type": "code",
   "execution_count": 12,
   "id": "5d53699b-59d6-478f-afbd-315c92da964c",
   "metadata": {},
   "outputs": [
    {
     "data": {
      "text/plain": [
       "365           Alianzas\n",
       "864       Regulaciones\n",
       "512         Reputacion\n",
       "462     Sostenibilidad\n",
       "143      Macroeconomia\n",
       "             ...      \n",
       "991         Innovacion\n",
       "783      Macroeconomia\n",
       "1086          Alianzas\n",
       "1082     Macroeconomia\n",
       "645           Alianzas\n",
       "Name: Type, Length: 912, dtype: object"
      ]
     },
     "execution_count": 12,
     "metadata": {},
     "output_type": "execute_result"
    }
   ],
   "source": [
    "y_train"
   ]
  },
  {
   "cell_type": "code",
   "execution_count": 13,
   "id": "6e12a4d3-eae6-494d-b51f-4143262c5a98",
   "metadata": {},
   "outputs": [
    {
     "data": {
      "text/plain": [
       "646       Regulaciones\n",
       "681       Regulaciones\n",
       "285         Innovacion\n",
       "1092     Macroeconomia\n",
       "1197        Innovacion\n",
       "             ...      \n",
       "1121          Alianzas\n",
       "481     Sostenibilidad\n",
       "300         Innovacion\n",
       "1058          Alianzas\n",
       "118           Alianzas\n",
       "Name: Type, Length: 305, dtype: object"
      ]
     },
     "execution_count": 13,
     "metadata": {},
     "output_type": "execute_result"
    }
   ],
   "source": [
    "y_test"
   ]
  },
  {
   "cell_type": "code",
   "execution_count": 14,
   "id": "3712ac2d-f610-4112-9f31-373df4630e5f",
   "metadata": {},
   "outputs": [],
   "source": [
    "from sklearn.feature_extraction.text import CountVectorizer\n"
   ]
  },
  {
   "cell_type": "code",
   "execution_count": 15,
   "id": "e32d4353-344f-429e-8d57-090761408a7c",
   "metadata": {},
   "outputs": [],
   "source": [
    "vectorizer= CountVectorizer()"
   ]
  },
  {
   "cell_type": "code",
   "execution_count": 33,
   "id": "86cf14af-cb3b-4d04-8b18-cedc7a14fc86",
   "metadata": {},
   "outputs": [],
   "source": [
    "X_train_transformed = vectorizer.fit_transform(X_train)\n",
    "X_test_transformed = vectorizer.transform(X_test)"
   ]
  },
  {
   "cell_type": "code",
   "execution_count": 35,
   "id": "87dc8e5a-b77b-4b75-b287-ba7a521d68a0",
   "metadata": {},
   "outputs": [
    {
     "data": {
      "text/plain": [
       "<305x25903 sparse matrix of type '<class 'numpy.int64'>'\n",
       "\twith 67055 stored elements in Compressed Sparse Row format>"
      ]
     },
     "execution_count": 35,
     "metadata": {},
     "output_type": "execute_result"
    }
   ],
   "source": [
    "X_test_transformed\n"
   ]
  },
  {
   "cell_type": "code",
   "execution_count": 37,
   "id": "dfee98fc-9580-4d3c-9496-3d6016573ef6",
   "metadata": {},
   "outputs": [
    {
     "name": "stdout",
     "output_type": "stream",
     "text": [
      "[[0 0 0 ... 0 0 0]\n",
      " [0 0 0 ... 0 0 0]\n",
      " [0 0 0 ... 0 0 0]\n",
      " ...\n",
      " [0 0 0 ... 0 0 0]\n",
      " [0 1 0 ... 0 0 0]\n",
      " [0 1 0 ... 0 0 0]]\n"
     ]
    }
   ],
   "source": [
    "# Vectorizamos los datos y los mostramos \n",
    "X_train_transformed_dense= X_train_transformed.toarray()\n",
    "print(X_train_transformed_dense)"
   ]
  },
  {
   "cell_type": "code",
   "execution_count": 39,
   "id": "af497bd8-e077-4b86-8fa1-25b5ab7e0953",
   "metadata": {},
   "outputs": [],
   "source": [
    "from sklearn.naive_bayes import MultinomialNB\n",
    "from sklearn import metrics"
   ]
  },
  {
   "cell_type": "code",
   "execution_count": 45,
   "id": "713f05b9-b992-4711-bc20-ef4211fcebce",
   "metadata": {},
   "outputs": [
    {
     "name": "stdout",
     "output_type": "stream",
     "text": [
      "0.7770491803278688\n"
     ]
    }
   ],
   "source": [
    "# Este modelo tiene alrededor del 75-80%\n",
    "model = MultinomialNB()\n",
    "model.fit(X_train_transformed, y_train)\n",
    "y_pred = model.predict(X_test_transformed)\n",
    "print(metrics.accuracy_score(y_test,y_pred))\n",
    "\n",
    "# Tokenización simple apartirr del conteo"
   ]
  },
  {
   "cell_type": "markdown",
   "id": "4754a934-aeb1-4794-8fc1-304271ac169f",
   "metadata": {},
   "source": [
    "# Stemming"
   ]
  },
  {
   "cell_type": "code",
   "execution_count": 48,
   "id": "006b8dfc-3ca3-4480-9610-99b2ce0d7459",
   "metadata": {},
   "outputs": [],
   "source": [
    "import nltk\n",
    "from nltk.tokenize import word_tokenize\n",
    "from nltk.corpus import stopwords\n",
    "from nltk.stem import SnowballStemmer"
   ]
  },
  {
   "cell_type": "code",
   "execution_count": 50,
   "id": "1d2e8bee-e709-440e-bdf7-11fd47d85f1b",
   "metadata": {},
   "outputs": [
    {
     "name": "stderr",
     "output_type": "stream",
     "text": [
      "[nltk_data] Downloading package punkt to\n",
      "[nltk_data]     C:\\Users\\oscar\\AppData\\Roaming\\nltk_data...\n",
      "[nltk_data]   Package punkt is already up-to-date!\n",
      "[nltk_data] Downloading package stopwords to\n",
      "[nltk_data]     C:\\Users\\oscar\\AppData\\Roaming\\nltk_data...\n",
      "[nltk_data]   Package stopwords is already up-to-date!\n"
     ]
    },
    {
     "data": {
      "text/plain": [
       "True"
      ]
     },
     "execution_count": 50,
     "metadata": {},
     "output_type": "execute_result"
    }
   ],
   "source": [
    "nltk.download('punkt')\n",
    "nltk.download('stopwords')"
   ]
  },
  {
   "cell_type": "code",
   "execution_count": 52,
   "id": "ca096722-6ed6-4009-be85-a24e3b24acb1",
   "metadata": {},
   "outputs": [],
   "source": [
    "stemmer= SnowballStemmer('spanish')"
   ]
  },
  {
   "cell_type": "code",
   "execution_count": 58,
   "id": "de018e4b-7aff-4e8a-841f-8e46d96e1917",
   "metadata": {},
   "outputs": [],
   "source": [
    "# Vamos a crear una función donde haya una tokenización del texto pasado a minusculas a cada unos de esos tokens le vamos\n",
    "# a aplicar el stemmer luego lo vamos a unir para que quede en la frase o en la noticia pero ahora stemmeada\n",
    "def tokenize_and_stem(text):\n",
    "    tokens = word_tokenize(text.lower())\n",
    "    stems = [stemmer.stem(token) for token in tokens if token.isalpha()]\n",
    "    return ' '.join(stems)"
   ]
  },
  {
   "cell_type": "code",
   "execution_count": 60,
   "id": "f3358b24-2c7a-41a0-9c9d-baab523c9a17",
   "metadata": {},
   "outputs": [],
   "source": [
    "df['news_stemmer'] = df['news'].apply(tokenize_and_stem)"
   ]
  },
  {
   "cell_type": "code",
   "execution_count": 61,
   "id": "7e3bb586-db48-4c4d-a73c-eef1e7dba3f7",
   "metadata": {},
   "outputs": [
    {
     "data": {
      "text/plain": [
       "0       durant el for la banc articul empresarial par ...\n",
       "1       el regul de valor de chin dij el doming que bu...\n",
       "2       en una industri histor masculin com lo es la a...\n",
       "3       con el dat de marz el ipc interanual encaden s...\n",
       "4       ayer en cartagen se dio inici a la version num...\n",
       "                              ...                        \n",
       "1212    en la vid de tod empres emergent lleg un momen...\n",
       "1213    la espiral alcist de los preci continu y gener...\n",
       "1214    las grand derrot nacional son experient trauma...\n",
       "1215    bbva ha alcanz un acuerd de colabor con barcel...\n",
       "1216    casi entrand a la part final de noviembr la ep...\n",
       "Name: news_stemmer, Length: 1217, dtype: object"
      ]
     },
     "execution_count": 61,
     "metadata": {},
     "output_type": "execute_result"
    }
   ],
   "source": [
    "df['news_stemmer']"
   ]
  },
  {
   "cell_type": "code",
   "execution_count": 64,
   "id": "cd22c685-cdf5-4c5a-a459-ae02635cd16f",
   "metadata": {},
   "outputs": [
    {
     "name": "stdout",
     "output_type": "stream",
     "text": [
      "con el dat de marz el ipc interanual encaden su decimoquint tas posit consecut la inflacion public por el ine se ha manten igual respect al avanc del de marz y se situ punt por encim del dat de febrer que ascend al esos punt de diferent la mayor part la coloc el grup de la viviend punt por la sub de la electr y el del transport punt por el alza de los carbur tambien impuls el ipc de marz el aument de los preci de la restaur y los servici de aloj y al encarec generaliz de los aliment especial del pesc y el marisc de la carn de las legumbr y hortaliz y de la lech el ques y los ten en cuent la rebaj del impuest especial sobr la electr y las variacion sobr otros impuest el ipc interanual alcanz en marz nuev decim mas que la tas general del asi lo reflej el ipc a impuest constant que el ine tambien public en el marc de esta inflacion subyacent sin aliment no elabor ni product energet aument en marz cuatr decim hast su valor mas alto desd septiembr de de este mod la subyacent se situ mas de seis punt por debaj de la tas del ipc el ultim año la calefaccion el alumbr y la distribu de agu se han encarec los aceit y gras han elev sus preci un y el transport personal es un mas car por el mayor cost de los carbur tambien registr alzas de dos digit los huev y la lech un mas car que hac un año y la carn de ovin y el pesc fresc y congel con repunt del en ambos estan los preci por comunidadescastillal manch se situ a la cabez con una tas de inflacion del segu de castill y leon aragon la rioj galici extremadur cantabri y comun valencian el otro las comun dond se registr las menor sub fueron canari madr balear asturi pais vasc y cataluñ ipc disp su tas mensual al tas mensual el ipc registr en marz un increment del respect a febrer su mayor alza mensual en cualqui mes desd cuand se camb la metodolog de esta estadist par recog mejor la evolu del merc echand la vist mas atras tom seri anterior el repunt mensual de marz es el mas elev desd agost de el terc mes de el indic de preci de consum armoniz ipca situ su tas interanual en mas de dos punt por encim de la de febrer por su part el indic adelant del ipca avanz un en tas mensual\n"
     ]
    }
   ],
   "source": [
    "print(df['news_stemmer'][3])"
   ]
  },
  {
   "cell_type": "code",
   "execution_count": 70,
   "id": "de30b360-6a96-4827-aece-59f81dfd2497",
   "metadata": {},
   "outputs": [
    {
     "name": "stdout",
     "output_type": "stream",
     "text": [
      "0.8426229508196721\n"
     ]
    }
   ],
   "source": [
    "# Separamos los datos en variables de entrada y etiquetas\n",
    "X= df['news_stemmer']\n",
    "y= df['Type']\n",
    "X_train, X_test, y_train, y_test = train_test_split(X,y,test_size=0.25)\n",
    "vectorizer = CountVectorizer()\n",
    "X_train_transformed= vectorizer.fit_transform(X_train)\n",
    "X_test_transformed = vectorizer.transform(X_test)\n",
    "\n",
    "model = MultinomialNB()\n",
    "model.fit(X_train_transformed, y_train)\n",
    "\n",
    "# Medimos el rendimiento swl modelo\n",
    "y_pred = model.predict(X_test_transformed)\n",
    "\n",
    "print(metrics.accuracy_score(y_test,y_pred))\n",
    "\n",
    "# Este modelo nos da un poco más de eficacia que el anterior"
   ]
  },
  {
   "cell_type": "code",
   "execution_count": 72,
   "id": "4b21981e-82c2-483a-a68e-0ce79222f4c9",
   "metadata": {},
   "outputs": [
    {
     "data": {
      "text/plain": [
       "<912x11694 sparse matrix of type '<class 'numpy.int64'>'\n",
       "\twith 186398 stored elements in Compressed Sparse Row format>"
      ]
     },
     "execution_count": 72,
     "metadata": {},
     "output_type": "execute_result"
    }
   ],
   "source": [
    "X_train_transformed"
   ]
  },
  {
   "cell_type": "markdown",
   "id": "d34f238b-8cf4-48f4-a73f-a68d52c868c6",
   "metadata": {},
   "source": [
    "# Lemmatization"
   ]
  },
  {
   "cell_type": "code",
   "execution_count": 75,
   "id": "5f53002a-1b6c-4f53-a250-49a8aa03ee5d",
   "metadata": {},
   "outputs": [],
   "source": [
    "import spacy"
   ]
  },
  {
   "cell_type": "code",
   "execution_count": 77,
   "id": "8d47d4bc-e95a-49e9-953c-f7dbca62cf51",
   "metadata": {},
   "outputs": [],
   "source": [
    "nlp= spacy.load('es_core_news_sm')"
   ]
  },
  {
   "cell_type": "code",
   "execution_count": 81,
   "id": "cd21fb1b-8b93-4cee-8499-01e35f9d7c3f",
   "metadata": {},
   "outputs": [],
   "source": [
    "# Crear una función donde le entregaremos los textos pero primero paandolos a minusculas y luego lemmatizandolos\n",
    "# Y nos regresara el texto pero ya lematizada\n",
    "\n",
    "def lemmatize_text(text):\n",
    "    doc = nlp(text.lower())\n",
    "    lemmas = [token.lemma_ for token in doc if token.is_alpha]\n",
    "    return ' '.join(lemmas)"
   ]
  },
  {
   "cell_type": "code",
   "execution_count": 83,
   "id": "29bed4b9-dc3b-4661-b93b-0ec711042d12",
   "metadata": {},
   "outputs": [],
   "source": [
    "df['news_lemma'] = df['news'].apply(lemmatize_text)"
   ]
  },
  {
   "cell_type": "code",
   "execution_count": 85,
   "id": "9b215edd-c6d8-4320-a59a-523abfd7504d",
   "metadata": {},
   "outputs": [
    {
     "data": {
      "text/plain": [
       "0       durante el foro el banca articulador empresari...\n",
       "1       el regulador de valor de china decir el doming...\n",
       "2       en uno industria históricamente masculino como...\n",
       "3       con el dato de marzo el ipc interanual encaden...\n",
       "4       ayer en cartagena él dar inicio a el versión n...\n",
       "                              ...                        \n",
       "1212    en el vida de todo empresa emergente llegar un...\n",
       "1213    el espiral alcista de el precio continuar y ge...\n",
       "1214    el grande derrota nacional ser experiencia tra...\n",
       "1215    bbva haber alcanzar uno acuerdo de colaboració...\n",
       "1216    casi entrar a el parte final de noviembre el é...\n",
       "Name: news_lemma, Length: 1217, dtype: object"
      ]
     },
     "execution_count": 85,
     "metadata": {},
     "output_type": "execute_result"
    }
   ],
   "source": [
    "df['news_lemma']"
   ]
  },
  {
   "cell_type": "code",
   "execution_count": 87,
   "id": "0a597d67-e39c-475a-b99c-c94672224971",
   "metadata": {},
   "outputs": [
    {
     "data": {
      "text/plain": [
       "'con el dato de marzo el ipc interanual encadenar su decimoquinto tasa positivo consecutivo el inflación publicado por el ine él haber mantener igual respecto al avance del de marzo y él situar punto por encima del dato de febrero que ascender al ese punto de diferencia el mayor parte él colocar el grupo de el vivienda punto por el subida de el electricidad y el del transporte punto por el alza de el carburante también impulsar el ipc de marzo el aumento de el precio de el restauración y el servicio de alojamiento y al encarecimiento generalizado de el alimento especialmente del pescado y el marisco de el carne de el legumbr y hortaliza y de el leche el queso y el tener en cuenta el rebaja del impuesto especial sobre el electricidad y el variación sobre otro impuesto el ipc interanual alcanzar en marzo nueve décima más que el tasa general del así él reflejar el ipc a impuesto constante que el ine también publicar en el marco de este inflación subyacente sin alimento no elaborado ni producto energético aumentar en marzo cuatro décima hasta su valor más alto desde septiembre de de este modo el subyacente él situar más de seis punto por debajo de el tasa del ipc el último año el calefacción el alumbrado y el distribución de agua él haber encarecer el aceite y grasas haber elevar su precio uno y el transporte personal ser uno más caro por el mayor coste de el carburante también registrar alza de dos dígito el huevo y el leche uno más caro que hacer uno año y el carne de ovino y el pescado fresco y congelado con repunte del en ambos estar el precio por comunidadescastillala mancho él situar a el cabeza con uno tasa de inflación del seguido de castilla y león aragón el rioja galicia extremaduro cantabria y comunidad valenciano el otro el comunidad donde él registrar el menor subida ser canario madrid balear asturia país vasco y cataluña ipc disparar su tasa mensual al tasa mensual el ipc registrar en marzo uno incremento del respecto a febrero su mayor alza mensual en cualquiera mes desde cuando él cambiar el metodología de este estadística para recoger mejor el evolución del mercado echar el vista más atrás tomar serie anterior el repunte mensual de marzo ser el más elevado desde agosto de el tercer mes de el índice de precio de consumo armonizado ipca situar su tasa interanual en más de dos punto por encima de el de febrero por su parte el indicador adelantado del ipca avanzar uno en tasa mensual'"
      ]
     },
     "execution_count": 87,
     "metadata": {},
     "output_type": "execute_result"
    }
   ],
   "source": [
    "\n",
    "df['news_lemma'][3]"
   ]
  },
  {
   "cell_type": "code",
   "execution_count": 89,
   "id": "b217f95d-bddf-4efc-88b0-5c3b09f9196d",
   "metadata": {},
   "outputs": [
    {
     "name": "stdout",
     "output_type": "stream",
     "text": [
      "0.7967213114754098\n"
     ]
    }
   ],
   "source": [
    "# Ahora haremos el modelo pero con la lemmatización\n",
    "\n",
    "# Separamos los datos en variables de entrada y etiquetas\n",
    "X= df['news_lemma']\n",
    "y= df['Type']\n",
    "X_train, X_test, y_train, y_test = train_test_split(X,y,test_size=0.25)\n",
    "vectorizer = CountVectorizer()\n",
    "X_train_transformed= vectorizer.fit_transform(X_train)\n",
    "X_test_transformed = vectorizer.transform(X_test)\n",
    "\n",
    "model = MultinomialNB()\n",
    "model.fit(X_train_transformed, y_train)\n",
    "\n",
    "# Medimos el rendimiento dell modelo\n",
    "y_pred = model.predict(X_test_transformed)\n",
    "\n",
    "print(metrics.accuracy_score(y_test,y_pred))\n",
    "\n",
    "# Nos dio algo mejor que el primer modelo y algo inferior al segundo modelo donde usamos stemming ( dependera de los textos) sin embargo la \n",
    "# lemmatización es un analisis más complejo porque les da algo de contexto a los tokens"
   ]
  },
  {
   "cell_type": "code",
   "execution_count": 91,
   "id": "fc77b044-6540-4db4-bf2b-6d6e525fa043",
   "metadata": {},
   "outputs": [
    {
     "data": {
      "text/plain": [
       "<912x16100 sparse matrix of type '<class 'numpy.int64'>'\n",
       "\twith 181008 stored elements in Compressed Sparse Row format>"
      ]
     },
     "execution_count": 91,
     "metadata": {},
     "output_type": "execute_result"
    }
   ],
   "source": [
    "X_train_transformed\n",
    "# La lemmatización como el Stemming reduce el nombre de dimensiones en comparación de la tokenización normal"
   ]
  },
  {
   "cell_type": "code",
   "execution_count": null,
   "id": "1f2513cd-1f08-4c91-9cd3-6c92709b1823",
   "metadata": {},
   "outputs": [],
   "source": []
  }
 ],
 "metadata": {
  "kernelspec": {
   "display_name": "Python 3 (ipykernel)",
   "language": "python",
   "name": "python3"
  },
  "language_info": {
   "codemirror_mode": {
    "name": "ipython",
    "version": 3
   },
   "file_extension": ".py",
   "mimetype": "text/x-python",
   "name": "python",
   "nbconvert_exporter": "python",
   "pygments_lexer": "ipython3",
   "version": "3.12.4"
  }
 },
 "nbformat": 4,
 "nbformat_minor": 5
}
